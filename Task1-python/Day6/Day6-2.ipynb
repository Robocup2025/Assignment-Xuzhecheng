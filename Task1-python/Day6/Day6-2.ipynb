{
 "cells": [
  {
   "cell_type": "markdown",
   "id": "6f0f7f1c",
   "metadata": {},
   "source": [
    "# 元组解包"
   ]
  },
  {
   "cell_type": "code",
   "execution_count": 1,
   "id": "d756b4cc",
   "metadata": {},
   "outputs": [
    {
     "name": "stdout",
     "output_type": "stream",
     "text": [
      "(1, 2, 3, 4)\n",
      "1 2 3 4\n"
     ]
    }
   ],
   "source": [
    "a = (1,2,3,4)\n",
    "print(a)\n",
    "print(*a)"
   ]
  },
  {
   "cell_type": "markdown",
   "id": "ea14ea14",
   "metadata": {},
   "source": [
    "### 代码1\n",
    "- print(a)：输出整个元组，结果为 `(1, 2, 3, 4)`。  \n",
    "- print(*a)：使用 `*` 将元组**解包**，相当于 `print(1, 2, 3, 4)`，结果为 `1 2 3 4`。"
   ]
  },
  {
   "cell_type": "code",
   "execution_count": 2,
   "id": "35df49fb",
   "metadata": {},
   "outputs": [
    {
     "name": "stdout",
     "output_type": "stream",
     "text": [
      "1 2 3\n"
     ]
    }
   ],
   "source": [
    "a = (1,2,3)\n",
    "x, y, z = a\n",
    "print(x,y,z)"
   ]
  },
  {
   "cell_type": "markdown",
   "id": "8e72b204",
   "metadata": {},
   "source": [
    "### 代码2\n",
    "a是一个包含3个元素的元组，然后将a的值赋值给x,y,z。"
   ]
  },
  {
   "cell_type": "code",
   "execution_count": 5,
   "id": "8f2799c7",
   "metadata": {},
   "outputs": [
    {
     "name": "stdout",
     "output_type": "stream",
     "text": [
      "1\n",
      "[2, 3]\n",
      "2\n",
      "3\n",
      "[2, 3]\n"
     ]
    }
   ],
   "source": [
    "a = (1,2,3)\n",
    "x, y, _ = a \n",
    "x, _, __ = a \n",
    "x, _, _ = a\n",
    "_, __, ___ = a\n",
    "x, *y = a\n",
    "x, *_ = a\n",
    "print(x)\n",
    "print(y)\n",
    "print(__)\n",
    "print(___)\n",
    "print(_)"
   ]
  },
  {
   "cell_type": "markdown",
   "id": "d7c69794",
   "metadata": {},
   "source": [
    "### 代码3\n",
    "注意这里面_/__/___都是变量名，代码从前到后执行，同一个变量后面的赋值会覆盖前面的赋值，*是扩展解包的用法，返回的值是列表。"
   ]
  },
  {
   "cell_type": "code",
   "execution_count": 6,
   "id": "32662827",
   "metadata": {},
   "outputs": [
    {
     "name": "stdout",
     "output_type": "stream",
     "text": [
      "1 2\n",
      "2 1\n"
     ]
    }
   ],
   "source": [
    "a, b = 1, 2\n",
    "print(a,b)\n",
    "b, a = a, b\n",
    "print(a,b)"
   ]
  },
  {
   "cell_type": "markdown",
   "id": "cee36b81",
   "metadata": {},
   "source": [
    "### 代码4\n",
    "赋值与交换。\n",
    "先计算右边所有表达式的值（此时 a 和 b 还是旧值），\n",
    "打包成元组，\n",
    "再按顺序解包赋值给左边的变量。"
   ]
  }
 ],
 "metadata": {
  "kernelspec": {
   "display_name": "base",
   "language": "python",
   "name": "python3"
  },
  "language_info": {
   "codemirror_mode": {
    "name": "ipython",
    "version": 3
   },
   "file_extension": ".py",
   "mimetype": "text/x-python",
   "name": "python",
   "nbconvert_exporter": "python",
   "pygments_lexer": "ipython3",
   "version": "3.12.3"
  }
 },
 "nbformat": 4,
 "nbformat_minor": 5
}
