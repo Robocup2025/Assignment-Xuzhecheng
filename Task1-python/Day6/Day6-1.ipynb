{
 "cells": [
  {
   "cell_type": "markdown",
   "id": "202c7593",
   "metadata": {},
   "source": [
    "# 元组打包"
   ]
  },
  {
   "cell_type": "code",
   "execution_count": 1,
   "id": "799b84c9",
   "metadata": {},
   "outputs": [
    {
     "name": "stdout",
     "output_type": "stream",
     "text": [
      "type(a)=<class 'tuple'>, type(b)=<class 'tuple'>\n",
      "(1, 2, 3, 4, 5)\n",
      "True\n"
     ]
    }
   ],
   "source": [
    "a = 1,2,3,4,5\n",
    "b = 1,2\n",
    "print(f\"type(a)={type(a)}, type(b)={type(b)}\")\n",
    "print(a)\n",
    "print(b == (1,2))"
   ]
  },
  {
   "cell_type": "markdown",
   "id": "dd3a1a18",
   "metadata": {},
   "source": [
    "### 代码1\n",
    "Python会对使用逗号分隔的多个变量进⾏隐式的打包，使的多个变量整体成为⼀个元组/将变量组合为⼀个元组。\n",
    "即a、b都为元组，第五行也是在判断b是否为元组。"
   ]
  },
  {
   "cell_type": "code",
   "execution_count": 2,
   "id": "b41dfec8",
   "metadata": {},
   "outputs": [
    {
     "name": "stdout",
     "output_type": "stream",
     "text": [
      "{1: 2, (1, 2): 1}\n",
      "1\n"
     ]
    }
   ],
   "source": [
    "a = {}\n",
    "a[1] = 2\n",
    "a[1,2] = 1\n",
    "print(a)\n",
    "print(a[1,2])"
   ]
  },
  {
   "cell_type": "markdown",
   "id": "0d541503",
   "metadata": {},
   "source": [
    "### 代码2\n",
    "a通过{}被定义为一个字典，第三行代码将1,2自动识别为一个元组的形式，故能输出键和值一一对应的关系"
   ]
  },
  {
   "cell_type": "code",
   "execution_count": 3,
   "id": "d77d9557",
   "metadata": {},
   "outputs": [
    {
     "name": "stdout",
     "output_type": "stream",
     "text": [
      "3\n"
     ]
    },
    {
     "ename": "TypeError",
     "evalue": "list indices must be integers or slices, not tuple",
     "output_type": "error",
     "traceback": [
      "\u001b[31m---------------------------------------------------------------------------\u001b[39m",
      "\u001b[31mTypeError\u001b[39m                                 Traceback (most recent call last)",
      "\u001b[36mCell\u001b[39m\u001b[36m \u001b[39m\u001b[32mIn[3]\u001b[39m\u001b[32m, line 3\u001b[39m\n\u001b[32m      1\u001b[39m a = [[\u001b[32m1\u001b[39m,\u001b[32m2\u001b[39m,\u001b[32m3\u001b[39m], [\u001b[32m1\u001b[39m,\u001b[32m2\u001b[39m,\u001b[32m3\u001b[39m]]\n\u001b[32m      2\u001b[39m \u001b[38;5;28mprint\u001b[39m(a[\u001b[32m1\u001b[39m][\u001b[32m2\u001b[39m])\n\u001b[32m----> \u001b[39m\u001b[32m3\u001b[39m \u001b[38;5;28mprint\u001b[39m(\u001b[43ma\u001b[49m\u001b[43m[\u001b[49m\u001b[32;43m1\u001b[39;49m\u001b[43m,\u001b[49m\u001b[32;43m2\u001b[39;49m\u001b[43m]\u001b[49m)\n",
      "\u001b[31mTypeError\u001b[39m: list indices must be integers or slices, not tuple"
     ]
    }
   ],
   "source": [
    "a = [[1,2,3], [1,2,3]]\n",
    "print(a[1][2])\n",
    "print(a[1,2])"
   ]
  },
  {
   "cell_type": "markdown",
   "id": "a2407674",
   "metadata": {},
   "source": [
    "### 代码3\n",
    "a是一个二维列表，a[1][2]可以读取第二行第三列的值，而a[1,2]将1,2识别为元组(1,2)，而a是一个列表，元组无法作为索引。"
   ]
  }
 ],
 "metadata": {
  "kernelspec": {
   "display_name": "base",
   "language": "python",
   "name": "python3"
  },
  "language_info": {
   "codemirror_mode": {
    "name": "ipython",
    "version": 3
   },
   "file_extension": ".py",
   "mimetype": "text/x-python",
   "name": "python",
   "nbconvert_exporter": "python",
   "pygments_lexer": "ipython3",
   "version": "3.12.3"
  }
 },
 "nbformat": 4,
 "nbformat_minor": 5
}
