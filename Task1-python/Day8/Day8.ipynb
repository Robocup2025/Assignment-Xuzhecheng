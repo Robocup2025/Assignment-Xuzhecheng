{
 "cells": [
  {
   "cell_type": "markdown",
   "id": "bd0e39ca",
   "metadata": {},
   "source": [
    "## TypeHint"
   ]
  },
  {
   "cell_type": "markdown",
   "id": "7e23c0a5",
   "metadata": {},
   "source": [
    "Type Hint 是 Python 提供的一种类型标注语法，允许我们为变量、函数参数和返回值声明预期类型。"
   ]
  },
  {
   "cell_type": "code",
   "execution_count": 4,
   "id": "4e8fde51",
   "metadata": {},
   "outputs": [
    {
     "data": {
      "text/plain": [
       "'Hello Napuc'"
      ]
     },
     "execution_count": 4,
     "metadata": {},
     "output_type": "execute_result"
    }
   ],
   "source": [
    "def greet(name: str) -> str:\n",
    "    return \"Hello \" + name\n",
    "greet(\"Napuc\")"
   ]
  },
  {
   "cell_type": "markdown",
   "id": "57304bea",
   "metadata": {},
   "source": [
    "这些都是函数意义上的类型标注，指出了输入类型和输出类型，使用.__annotations__()方法可以输出各个变量的属性。"
   ]
  },
  {
   "cell_type": "code",
   "execution_count": 5,
   "id": "66a20dcd",
   "metadata": {},
   "outputs": [
    {
     "name": "stdout",
     "output_type": "stream",
     "text": [
      "{'x': <class 'int'>, 'y': <class 'int'>, 'return': <class 'int'>}\n"
     ]
    }
   ],
   "source": [
    "def sum(x: int, y: int) -> int:\n",
    "    return x+y\n",
    "    \n",
    "sum(1,2)\n",
    "print(sum.__annotations__)"
   ]
  },
  {
   "cell_type": "markdown",
   "id": "34f3815f",
   "metadata": {},
   "source": [
    "### 安装mypy\n",
    "mypy可以检验最终代码是否符合设定的类型注解。"
   ]
  },
  {
   "cell_type": "code",
   "execution_count": 6,
   "id": "3e09033d",
   "metadata": {},
   "outputs": [
    {
     "name": "stdout",
     "output_type": "stream",
     "text": [
      "3\n",
      "hello world\n"
     ]
    }
   ],
   "source": [
    "num: int = \"hello\"\n",
    "s: str = 10\n",
    "\n",
    "def sum(x: int, y: int) -> int:\n",
    "    return x+y\n",
    "\n",
    "print(sum(1,2))\n",
    "print(sum(\"hello \",\"world\"))"
   ]
  },
  {
   "cell_type": "markdown",
   "id": "47999366",
   "metadata": {},
   "source": [
    "### Typing"
   ]
  },
  {
   "cell_type": "code",
   "execution_count": 8,
   "id": "42088a11",
   "metadata": {},
   "outputs": [
    {
     "name": "stdout",
     "output_type": "stream",
     "text": [
      "[1, 2, 3, 4, 5, 6]\n"
     ]
    }
   ],
   "source": [
    "from typing import List, Tuple, Set, Dict\n",
    "\n",
    "my_list: List[int] = [1, 2, 3, 4, 5, 6]\n",
    "my_tuple: Tuple[int, str, bool] = (1, \"hi\", True)\n",
    "my_set: Set[int] = {1, 2, 3}\n",
    "my_dict: Dict[int, str] = {1: \"a\", 2: \"b\", 3: \"c\"}\n",
    "print(my_list)"
   ]
  },
  {
   "cell_type": "markdown",
   "id": "390aabdf",
   "metadata": {},
   "source": [
    "### 好处\n",
    "- 更好的代码可读性:一眼看出函数需要什么、返回什么\n",
    "\n",
    "- 提前发现 bug:搭配静态检查工具（如 mypy、PyCharm、VSCode）能在运行前就发现类型错误\n",
    "\n",
    "- IDE 智能提示更准确:自动补全更聪明，再也不会乱猜类型\n",
    "\n",
    "- 提升大型项目可维护性:团队协作时减少“我以为”和“你以为”"
   ]
  }
 ],
 "metadata": {
  "kernelspec": {
   "display_name": "base",
   "language": "python",
   "name": "python3"
  },
  "language_info": {
   "codemirror_mode": {
    "name": "ipython",
    "version": 3
   },
   "file_extension": ".py",
   "mimetype": "text/x-python",
   "name": "python",
   "nbconvert_exporter": "python",
   "pygments_lexer": "ipython3",
   "version": "3.12.3"
  }
 },
 "nbformat": 4,
 "nbformat_minor": 5
}
