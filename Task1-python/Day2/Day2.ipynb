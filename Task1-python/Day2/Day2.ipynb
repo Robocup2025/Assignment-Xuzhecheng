{
 "cells": [
  {
   "cell_type": "code",
   "execution_count": 1,
   "id": "5bebaf33",
   "metadata": {},
   "outputs": [
    {
     "name": "stdout",
     "output_type": "stream",
     "text": [
      "letters:4\n",
      "spaces:1\n",
      "digits:1\n",
      "others:0\n"
     ]
    }
   ],
   "source": [
    "s=input()\n",
    "letters = spaces = digits = others = 0\n",
    "for c in s:\n",
    "    if c.isalpha():\n",
    "        letters += 1\n",
    "    elif c.isspace():\n",
    "        spaces += 1\n",
    "    elif c.isdigit():\n",
    "        digits += 1\n",
    "    else:\n",
    "        others += 1\n",
    "print(f\"letters:{letters}\")\n",
    "print(f\"spaces:{spaces}\")\n",
    "print(f\"digits:{digits}\")\n",
    "print(f\"others:{others}\")\n"
   ]
  },
  {
   "cell_type": "code",
   "execution_count": 2,
   "id": "71c99338",
   "metadata": {},
   "outputs": [
    {
     "name": "stdout",
     "output_type": "stream",
     "text": [
      "246\n"
     ]
    }
   ],
   "source": [
    "a=int(input())\n",
    "n=int(input())\n",
    "\n",
    "ans=0\n",
    "term=0           # 用于动态生成 a, aa, aaa, ...\n",
    "\n",
    "for i in range(n):\n",
    "    term=term*10+a   # 关键！用数学方式构造下一项\n",
    "    ans+=term\n",
    "\n",
    "print(ans)"
   ]
  },
  {
   "cell_type": "code",
   "execution_count": 3,
   "id": "b83e7c36",
   "metadata": {},
   "outputs": [
    {
     "name": "stdout",
     "output_type": "stream",
     "text": [
      "299.609375\n",
      "0.09765625\n"
     ]
    }
   ],
   "source": [
    "h=100\n",
    "ans=h\n",
    "\n",
    "for i in range(9):\n",
    "    h/=2\n",
    "    ans+=h*2\n",
    "\n",
    "bounce10=h/2\n",
    "print(ans)\n",
    "print(bounce10)"
   ]
  },
  {
   "cell_type": "code",
   "execution_count": 4,
   "id": "9214580c",
   "metadata": {},
   "outputs": [
    {
     "name": "stdout",
     "output_type": "stream",
     "text": [
      "153\n",
      "370\n",
      "371\n",
      "407\n"
     ]
    }
   ],
   "source": [
    "for i in range(101,1000):\n",
    "    bai=i//100\n",
    "    shi=(i//10)%10\n",
    "    ge=i%10\n",
    "    if i==bai**3+shi**3+ge**3:\n",
    "        print(i)"
   ]
  },
  {
   "cell_type": "code",
   "execution_count": 5,
   "id": "a6878336",
   "metadata": {},
   "outputs": [
    {
     "name": "stdout",
     "output_type": "stream",
     "text": [
      "101\n",
      "103\n",
      "107\n",
      "109\n",
      "113\n",
      "127\n",
      "131\n",
      "137\n",
      "139\n",
      "149\n",
      "151\n",
      "157\n",
      "163\n",
      "167\n",
      "173\n",
      "179\n",
      "181\n",
      "191\n",
      "193\n",
      "197\n",
      "199\n"
     ]
    }
   ],
   "source": [
    "import math\n",
    "for i in range(101,200):\n",
    "    flag=True\n",
    "    for j in range(2,math.isqrt(i)+1):\n",
    "        if i%j==0:\n",
    "            flag=False\n",
    "            break\n",
    "    if flag:\n",
    "        print(i)  \n",
    "\n"
   ]
  },
  {
   "cell_type": "code",
   "execution_count": null,
   "id": "3508da52",
   "metadata": {},
   "outputs": [],
   "source": []
  },
  {
   "cell_type": "code",
   "execution_count": null,
   "id": "026b6e86",
   "metadata": {},
   "outputs": [],
   "source": []
  }
 ],
 "metadata": {
  "kernelspec": {
   "display_name": "base",
   "language": "python",
   "name": "python3"
  },
  "language_info": {
   "codemirror_mode": {
    "name": "ipython",
    "version": 3
   },
   "file_extension": ".py",
   "mimetype": "text/x-python",
   "name": "python",
   "nbconvert_exporter": "python",
   "pygments_lexer": "ipython3",
   "version": "3.12.3"
  }
 },
 "nbformat": 4,
 "nbformat_minor": 5
}
