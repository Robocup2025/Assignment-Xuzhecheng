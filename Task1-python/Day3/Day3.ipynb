{
 "cells": [
  {
   "cell_type": "code",
   "execution_count": 1,
   "id": "9a2b07ec",
   "metadata": {},
   "outputs": [
    {
     "name": "stdout",
     "output_type": "stream",
     "text": [
      "1534\n"
     ]
    }
   ],
   "source": [
    "ans=1\n",
    "for i in range(0,9):\n",
    "    ans=(ans+1)*2\n",
    "    \n",
    "print(ans)"
   ]
  },
  {
   "cell_type": "code",
   "execution_count": 2,
   "id": "fff1c993",
   "metadata": {},
   "outputs": [
    {
     "name": "stdout",
     "output_type": "stream",
     "text": [
      "   *   \n",
      "  ***  \n",
      " ***** \n",
      "*******\n",
      " ***** \n",
      "  ***  \n",
      "   *   \n"
     ]
    }
   ],
   "source": [
    "width=7\n",
    "for i in range(1,8):\n",
    "    stars=2*min(i,width-i+1)-1\n",
    "    print((\"*\"*stars).center(width))"
   ]
  },
  {
   "cell_type": "code",
   "execution_count": 4,
   "id": "4fc7a0a0",
   "metadata": {},
   "outputs": [
    {
     "name": "stdout",
     "output_type": "stream",
     "text": [
      "5\n",
      "73542\n"
     ]
    }
   ],
   "source": [
    "s=int(input())\n",
    "digits=0\n",
    "ans=\"\"\n",
    "while(s>0):\n",
    "    r=s%10\n",
    "    digits+=1\n",
    "    ans=ans+str(r)\n",
    "    s=s//10\n",
    "print(digits)\n",
    "print(ans)\n"
   ]
  },
  {
   "cell_type": "code",
   "execution_count": 5,
   "id": "a8971432",
   "metadata": {},
   "outputs": [
    {
     "name": "stdout",
     "output_type": "stream",
     "text": [
      "Yes\n"
     ]
    }
   ],
   "source": [
    "t=input().strip()\n",
    "s=int(t)\n",
    "ans=\"\"\n",
    "while(s>0):\n",
    "    r=s%10\n",
    "    ans=ans+str(r)\n",
    "    s=s//10\n",
    "\n",
    "if t==ans:\n",
    "    print(\"Yes\")\n",
    "else:\n",
    "    print(\"No\")"
   ]
  },
  {
   "cell_type": "code",
   "execution_count": 6,
   "id": "2fb5b63b",
   "metadata": {},
   "outputs": [
    {
     "name": "stdout",
     "output_type": "stream",
     "text": [
      "Yes\n"
     ]
    }
   ],
   "source": [
    "year=int(input())\n",
    "if((year%4==0 and year%100!=0) or (year%400==0)):\n",
    "    print(\"Yes\")\n",
    "else:\n",
    "    print(\"No\")"
   ]
  },
  {
   "cell_type": "code",
   "execution_count": 7,
   "id": "847322c8",
   "metadata": {},
   "outputs": [
    {
     "name": "stdout",
     "output_type": "stream",
     "text": [
      "54\n"
     ]
    }
   ],
   "source": [
    "def ifleap(year):\n",
    "    if (year%4==0 and year%100!=0)or(year%400==0):\n",
    "        return True\n",
    "    else:\n",
    "        return False\n",
    "\n",
    "year=int(input(\"年: \"))\n",
    "month=int(input(\"月: \"))\n",
    "day=int(input(\"日: \"))\n",
    "\n",
    "days_in_month=[31, 28, 31, 30, 31, 30, 31, 31, 30, 31, 30, 31]\n",
    "ans=sum(days_in_month[:month-1])+day\n",
    "\n",
    "if ifleap(year) and month>2:\n",
    "    ans+=1\n",
    "print(ans)\n",
    "\n",
    "\n"
   ]
  }
 ],
 "metadata": {
  "kernelspec": {
   "display_name": "base",
   "language": "python",
   "name": "python3"
  },
  "language_info": {
   "codemirror_mode": {
    "name": "ipython",
    "version": 3
   },
   "file_extension": ".py",
   "mimetype": "text/x-python",
   "name": "python",
   "nbconvert_exporter": "python",
   "pygments_lexer": "ipython3",
   "version": "3.12.3"
  }
 },
 "nbformat": 4,
 "nbformat_minor": 5
}
