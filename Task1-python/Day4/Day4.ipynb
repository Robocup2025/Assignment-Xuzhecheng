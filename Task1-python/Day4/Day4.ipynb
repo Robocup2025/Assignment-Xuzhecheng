{
 "cells": [
  {
   "cell_type": "code",
   "execution_count": 7,
   "id": "4ce52cda",
   "metadata": {},
   "outputs": [
    {
     "name": "stdout",
     "output_type": "stream",
     "text": [
      "1, 2, 3, 4, 5\n"
     ]
    }
   ],
   "source": [
    "list=[1,2,3,4,5]\n",
    "print(', '.join(map(str, list)))"
   ]
  },
  {
   "cell_type": "code",
   "execution_count": 8,
   "id": "7e19edf5",
   "metadata": {},
   "outputs": [
    {
     "ename": "TypeError",
     "evalue": "'list' object is not callable",
     "output_type": "error",
     "traceback": [
      "\u001b[31m---------------------------------------------------------------------------\u001b[39m",
      "\u001b[31mTypeError\u001b[39m                                 Traceback (most recent call last)",
      "\u001b[36mCell\u001b[39m\u001b[36m \u001b[39m\u001b[32mIn[8]\u001b[39m\u001b[32m, line 1\u001b[39m\n\u001b[32m----> \u001b[39m\u001b[32m1\u001b[39m arr=\u001b[38;5;28;43mlist\u001b[39;49m\u001b[43m(\u001b[49m\u001b[38;5;28;43mmap\u001b[39;49m\u001b[43m(\u001b[49m\u001b[38;5;28;43mint\u001b[39;49m\u001b[43m,\u001b[49m\u001b[43m \u001b[49m\u001b[38;5;28;43minput\u001b[39;49m\u001b[43m(\u001b[49m\u001b[43m)\u001b[49m\u001b[43m.\u001b[49m\u001b[43msplit\u001b[49m\u001b[43m(\u001b[49m\u001b[43m)\u001b[49m\u001b[43m)\u001b[49m\u001b[43m)\u001b[49m\n\u001b[32m      2\u001b[39m num=\u001b[38;5;28mint\u001b[39m(\u001b[38;5;28minput\u001b[39m())\n\u001b[32m      4\u001b[39m i=\u001b[32m0\u001b[39m\n",
      "\u001b[31mTypeError\u001b[39m: 'list' object is not callable"
     ]
    }
   ],
   "source": [
    "arr=list(map(int, input().split()))\n",
    "num=int(input())\n",
    "\n",
    "i=0\n",
    "while i<len(arr) and arr[i]<=num:\n",
    "    i+=1\n",
    "arr.insert(i, num)\n",
    "print(arr)"
   ]
  },
  {
   "cell_type": "code",
   "execution_count": null,
   "id": "ec1f780c",
   "metadata": {},
   "outputs": [],
   "source": [
    "matrix1=[]\n",
    "for i in range(3):\n",
    "    row = list(map(int, input().split()))\n",
    "    matrix1.append(row)\n",
    "\n",
    "matrix2=[]\n",
    "for i in range(3):\n",
    "    row = list(map(int, input().split()))\n",
    "    matrix2.append(row)\n",
    "sum1=[]\n",
    "for i in range(3):\n",
    "    sum1.append([0]*3)\n",
    "for i in range(3):\n",
    "    for j in range(3):\n",
    "        sum1[i][j]=matrix1[i][j]+matrix2[i][j]\n",
    "\n",
    "print(sum1)"
   ]
  },
  {
   "cell_type": "code",
   "execution_count": null,
   "id": "29b0f372",
   "metadata": {},
   "outputs": [],
   "source": [
    "length=int(input())\n",
    "arr=list(map(int, input().split()))\n",
    "pos=int(input())\n",
    "\n",
    "pos=pos%length\n",
    "for _ in range(pos):\n",
    "    last=arr.pop()\n",
    "    arr.insert(0, last)\n",
    "\n",
    "print(arr)"
   ]
  },
  {
   "cell_type": "markdown",
   "id": "4433c2fa",
   "metadata": {},
   "source": [
    "### 元组可以作为字典的键，而列表和集合不能，因为他们是可变的。"
   ]
  },
  {
   "cell_type": "code",
   "execution_count": null,
   "id": "b5d5f572",
   "metadata": {},
   "outputs": [],
   "source": [
    "#由于列表具有可变性，故在弹出元素的过程中列表本身发生变化，下一个访问的就是被弹出元素后面第二位的元素，导致无法筛掉所有的奇数。\n",
    "if __name__ == \"__main__\":\n",
    "    nums = list(range(1000))\n",
    "    nums = [x for x in nums if x % 2 == 0]\n",
    "    print(nums)"
   ]
  },
  {
   "cell_type": "code",
   "execution_count": null,
   "id": "2df487bf",
   "metadata": {},
   "outputs": [
    {
     "ename": "TypeError",
     "evalue": "'list' object is not callable",
     "output_type": "error",
     "traceback": [
      "\u001b[31m---------------------------------------------------------------------------\u001b[39m",
      "\u001b[31mTypeError\u001b[39m                                 Traceback (most recent call last)",
      "\u001b[36mCell\u001b[39m\u001b[36m \u001b[39m\u001b[32mIn[6]\u001b[39m\u001b[32m, line 9\u001b[39m\n\u001b[32m      6\u001b[39m         people.pop(index)\n\u001b[32m      7\u001b[39m     \u001b[38;5;28;01mreturn\u001b[39;00m people[\u001b[32m0\u001b[39m]\n\u001b[32m----> \u001b[39m\u001b[32m9\u001b[39m last=\u001b[43mmodk\u001b[49m\u001b[43m(\u001b[49m\u001b[32;43m233\u001b[39;49m\u001b[43m,\u001b[49m\u001b[32;43m3\u001b[39;49m\u001b[43m)\u001b[49m\n\u001b[32m     10\u001b[39m \u001b[38;5;28mprint\u001b[39m(last)\n",
      "\u001b[36mCell\u001b[39m\u001b[36m \u001b[39m\u001b[32mIn[6]\u001b[39m\u001b[32m, line 2\u001b[39m, in \u001b[36mmodk\u001b[39m\u001b[34m(n, k)\u001b[39m\n\u001b[32m      1\u001b[39m \u001b[38;5;28;01mdef\u001b[39;00m\u001b[38;5;250m \u001b[39m\u001b[34mmodk\u001b[39m(n,k):\n\u001b[32m----> \u001b[39m\u001b[32m2\u001b[39m     people=\u001b[38;5;28;43mlist\u001b[39;49m\u001b[43m(\u001b[49m\u001b[38;5;28;43mrange\u001b[39;49m\u001b[43m(\u001b[49m\u001b[32;43m1\u001b[39;49m\u001b[43m,\u001b[49m\u001b[43mn\u001b[49m\u001b[43m+\u001b[49m\u001b[32;43m1\u001b[39;49m\u001b[43m)\u001b[49m\u001b[43m)\u001b[49m\n\u001b[32m      3\u001b[39m     index=\u001b[32m0\u001b[39m\n\u001b[32m      4\u001b[39m     \u001b[38;5;28;01mwhile\u001b[39;00m \u001b[38;5;28mlen\u001b[39m(people)>\u001b[32m1\u001b[39m:\n",
      "\u001b[31mTypeError\u001b[39m: 'list' object is not callable"
     ]
    }
   ],
   "source": [
    "def modk(n,k):\n",
    "    people=list(range(1,n+1))\n",
    "    index=0\n",
    "    while len(people)>1:\n",
    "        index=(index+k-1)%len(people)\n",
    "        people.pop(index)\n",
    "    return people[0]\n",
    "\n",
    "last=modk(233,3)\n",
    "print(last)"
   ]
  }
 ],
 "metadata": {
  "kernelspec": {
   "display_name": "base",
   "language": "python",
   "name": "python3"
  },
  "language_info": {
   "codemirror_mode": {
    "name": "ipython",
    "version": 3
   },
   "file_extension": ".py",
   "mimetype": "text/x-python",
   "name": "python",
   "nbconvert_exporter": "python",
   "pygments_lexer": "ipython3",
   "version": "3.12.3"
  }
 },
 "nbformat": 4,
 "nbformat_minor": 5
}
