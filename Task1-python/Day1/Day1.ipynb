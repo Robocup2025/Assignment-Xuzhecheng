{
 "cells": [
  {
   "cell_type": "code",
   "execution_count": 2,
   "id": "5bebaf33",
   "metadata": {},
   "outputs": [
    {
     "name": "stdout",
     "output_type": "stream",
     "text": [
      "24 个\n",
      "分别是： [123, 124, 132, 134, 142, 143, 213, 214, 231, 234, 241, 243, 312, 314, 321, 324, 341, 342, 412, 413, 421, 423, 431, 432]\n"
     ]
    }
   ],
   "source": [
    "count = 0\n",
    "results = []\n",
    "\n",
    "for i in range(1, 5):\n",
    "    for j in range(1, 5):\n",
    "        for k in range(1, 5):\n",
    "            if i != j and j != k and i != k:\n",
    "                num = i * 100 + j * 10 + k\n",
    "                results.append(num)\n",
    "                count += 1\n",
    "\n",
    "print(count, \"个\")\n",
    "print(\"分别是：\", results)"
   ]
  },
  {
   "cell_type": "code",
   "execution_count": 4,
   "id": "672b92b8",
   "metadata": {},
   "outputs": [
    {
     "name": "stdout",
     "output_type": "stream",
     "text": [
      "3 21 34\n"
     ]
    }
   ],
   "source": [
    "x, y, z = map(int, input().split())\n",
    "nums = [x, y, z]\n",
    "nums.sort()\n",
    "print(nums[0], nums[1], nums[2])\n",
    "\n",
    "#if x > y:\n",
    "#    x, y = y, x\n",
    "#if x > z:\n",
    "#   x, z = z, x\n",
    "#if y > z:\n",
    "#    y, z = z, y"
   ]
  },
  {
   "cell_type": "code",
   "execution_count": 5,
   "id": "b757ee81",
   "metadata": {},
   "outputs": [
    {
     "name": "stdout",
     "output_type": "stream",
     "text": [
      "0 1 1 2 3 5 8 13 21 34 55 89 144 233 377 610 987 1597 2584 4181\n"
     ]
    }
   ],
   "source": [
    "a=[0]*21\n",
    "a[1]=0\n",
    "a[2]=1\n",
    "a[3]=1\n",
    "for i in range(4,21):\n",
    "    a[i]=a[i-1]+a[i-2]\n",
    "\n",
    "result = [str(a[i]) for i in range(1, 21)]\n",
    "print(\" \".join(result))"
   ]
  },
  {
   "cell_type": "code",
   "execution_count": 6,
   "id": "887c0f21",
   "metadata": {},
   "outputs": [
    {
     "name": "stdout",
     "output_type": "stream",
     "text": [
      "1 x 1 = 1\t\n",
      "2 x 1 = 2\t2 x 2 = 4\t\n",
      "3 x 1 = 3\t3 x 2 = 6\t3 x 3 = 9\t\n",
      "4 x 1 = 4\t4 x 2 = 8\t4 x 3 = 12\t4 x 4 = 16\t\n",
      "5 x 1 = 5\t5 x 2 = 10\t5 x 3 = 15\t5 x 4 = 20\t5 x 5 = 25\t\n",
      "6 x 1 = 6\t6 x 2 = 12\t6 x 3 = 18\t6 x 4 = 24\t6 x 5 = 30\t6 x 6 = 36\t\n",
      "7 x 1 = 7\t7 x 2 = 14\t7 x 3 = 21\t7 x 4 = 28\t7 x 5 = 35\t7 x 6 = 42\t7 x 7 = 49\t\n",
      "8 x 1 = 8\t8 x 2 = 16\t8 x 3 = 24\t8 x 4 = 32\t8 x 5 = 40\t8 x 6 = 48\t8 x 7 = 56\t8 x 8 = 64\t\n",
      "9 x 1 = 9\t9 x 2 = 18\t9 x 3 = 27\t9 x 4 = 36\t9 x 5 = 45\t9 x 6 = 54\t9 x 7 = 63\t9 x 8 = 72\t9 x 9 = 81\t\n"
     ]
    }
   ],
   "source": [
    "for i in range(1,10):\n",
    "    for j in range(1,i+1):\n",
    "        print(f\"{i} x {j} = {i*j}\",end=\"\\t\")\n",
    "    print()  "
   ]
  },
  {
   "cell_type": "code",
   "execution_count": null,
   "id": "98a639ed",
   "metadata": {},
   "outputs": [],
   "source": []
  },
  {
   "cell_type": "code",
   "execution_count": null,
   "id": "2809b460",
   "metadata": {},
   "outputs": [],
   "source": []
  }
 ],
 "metadata": {
  "kernelspec": {
   "display_name": "base",
   "language": "python",
   "name": "python3"
  },
  "language_info": {
   "codemirror_mode": {
    "name": "ipython",
    "version": 3
   },
   "file_extension": ".py",
   "mimetype": "text/x-python",
   "name": "python",
   "nbconvert_exporter": "python",
   "pygments_lexer": "ipython3",
   "version": "3.12.3"
  }
 },
 "nbformat": 4,
 "nbformat_minor": 5
}
